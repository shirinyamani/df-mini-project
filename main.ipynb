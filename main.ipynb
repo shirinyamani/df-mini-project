{
 "cells": [
  {
   "cell_type": "code",
   "execution_count": 2,
   "metadata": {},
   "outputs": [
    {
     "name": "stdout",
     "output_type": "stream",
     "text": [
      "Defaulting to user installation because normal site-packages is not writeable\n",
      "Requirement already satisfied: Faker in /home/shirin/.local/lib/python3.10/site-packages (14.2.0)\n",
      "Requirement already satisfied: python-dateutil>=2.4 in /home/shirin/.local/lib/python3.10/site-packages (from Faker) (2.8.2)\n",
      "Requirement already satisfied: six>=1.5 in /usr/lib/python3/dist-packages (from python-dateutil>=2.4->Faker) (1.16.0)\n",
      "Note: you may need to restart the kernel to use updated packages.\n",
      "Defaulting to user installation because normal site-packages is not writeable\n",
      "Collecting names-dataset\n",
      "  Downloading names-dataset-3.1.0.tar.gz (58.4 MB)\n",
      "\u001b[2K     \u001b[38;2;114;156;31m━━━━━━━━━━━━━━━━━━━━━━━━━━━━━━━━━━━━━━━━\u001b[0m \u001b[32m58.4/58.4 MB\u001b[0m \u001b[31m23.3 MB/s\u001b[0m eta \u001b[36m0:00:00\u001b[0mm eta \u001b[36m0:00:01\u001b[0m[36m0:00:01\u001b[0m\n",
      "\u001b[?25h  Preparing metadata (setup.py) ... \u001b[?25ldone\n",
      "\u001b[?25hCollecting pycountry\n",
      "  Downloading pycountry-22.3.5.tar.gz (10.1 MB)\n",
      "\u001b[2K     \u001b[38;2;114;156;31m━━━━━━━━━━━━━━━━━━━━━━━━━━━━━━━━━━━━━━━━\u001b[0m \u001b[32m10.1/10.1 MB\u001b[0m \u001b[31m27.7 MB/s\u001b[0m eta \u001b[36m0:00:00\u001b[0m1m29.9 MB/s\u001b[0m eta \u001b[36m0:00:01\u001b[0m\n",
      "\u001b[?25h  Installing build dependencies ... \u001b[?25ldone\n",
      "\u001b[?25h  Getting requirements to build wheel ... \u001b[?25ldone\n",
      "\u001b[?25h  Preparing metadata (pyproject.toml) ... \u001b[?25ldone\n",
      "\u001b[?25hRequirement already satisfied: setuptools in /usr/lib/python3/dist-packages (from pycountry->names-dataset) (59.6.0)\n",
      "Building wheels for collected packages: names-dataset, pycountry\n",
      "  Building wheel for names-dataset (setup.py) ... \u001b[?25ldone\n",
      "\u001b[?25h  Created wheel for names-dataset: filename=names_dataset-3.1.0-py3-none-any.whl size=116832781 sha256=556ae0b5e1263d2bd4890d8aebf494ca1cd037c1adb814e12db6309072876d08\n",
      "  Stored in directory: /home/shirin/.cache/pip/wheels/cf/f8/43/0c4aba87b34e971e7255a41f11dc0035c5e55b026dc3480986\n",
      "  Building wheel for pycountry (pyproject.toml) ... \u001b[?25ldone\n",
      "\u001b[?25h  Created wheel for pycountry: filename=pycountry-22.3.5-py2.py3-none-any.whl size=10681845 sha256=2858c073ee12160a690a4310fb5df20155e918b4100076cd779070c7b6e55ea1\n",
      "  Stored in directory: /home/shirin/.cache/pip/wheels/03/57/cc/290c5252ec97a6d78d36479a3c5e5ecc76318afcb241ad9dbe\n",
      "Successfully built names-dataset pycountry\n",
      "Installing collected packages: pycountry, names-dataset\n",
      "Successfully installed names-dataset-3.1.0 pycountry-22.3.5\n",
      "Note: you may need to restart the kernel to use updated packages.\n"
     ]
    }
   ],
   "source": [
    "%pip install Faker\n",
    "%pip install names-dataset"
   ]
  },
  {
   "cell_type": "markdown",
   "metadata": {},
   "source": [
    "# EDA\n",
    "(Explotary Data Analysis)"
   ]
  },
  {
   "cell_type": "code",
   "execution_count": 10,
   "metadata": {},
   "outputs": [],
   "source": [
    "import faker\n",
    "from faker import Faker #Faker is a class, so ya need to build obj from it \n",
    "from names_dataset import NameDataset"
   ]
  },
  {
   "cell_type": "code",
   "execution_count": 15,
   "metadata": {},
   "outputs": [],
   "source": [
    "import numpy as np\n",
    "import pandas as pd"
   ]
  },
  {
   "cell_type": "code",
   "execution_count": 11,
   "metadata": {},
   "outputs": [],
   "source": [
    "#Step 1: Build fake farsi + english names\n",
    "en_names = Faker()\n",
    "fa_names = Faker('fa')\n",
    "nd = NameDataset() #obj from NameDataset class that imported"
   ]
  },
  {
   "cell_type": "code",
   "execution_count": 12,
   "metadata": {},
   "outputs": [
    {
     "data": {
      "text/plain": [
       "{'first_name': {'country': {'Bangladesh': 0.184,\n",
       "   'Canada': 0.059,\n",
       "   'Germany': 0.07,\n",
       "   'Egypt': 0.042,\n",
       "   'United Kingdom': 0.046,\n",
       "   'Iraq': 0.084,\n",
       "   'Iran, Islamic Republic of': 0.284,\n",
       "   'Saudi Arabia': 0.04,\n",
       "   'Turkey': 0.044,\n",
       "   'United States': 0.148},\n",
       "  'gender': {'Female': 0.948, 'Male': 0.052},\n",
       "  'rank': {'Bangladesh': 407,\n",
       "   'Canada': 936,\n",
       "   'Germany': 1226,\n",
       "   'Egypt': 8726,\n",
       "   'United Kingdom': 2487,\n",
       "   'Iraq': 3207,\n",
       "   'Iran, Islamic Republic of': 269,\n",
       "   'Saudi Arabia': 10287,\n",
       "   'Turkey': 3564,\n",
       "   'United States': 3419}},\n",
       " 'last_name': {'country': {'United Arab Emirates': 0.056,\n",
       "   'Bangladesh': 0.415,\n",
       "   'Germany': 0.058,\n",
       "   'Israel': 0.054,\n",
       "   'Iraq': 0.055,\n",
       "   'Iran, Islamic Republic of': 0.141,\n",
       "   'Russian Federation': 0.051,\n",
       "   'Saudi Arabia': 0.075,\n",
       "   'Turkey': 0.043,\n",
       "   'United States': 0.051},\n",
       "  'gender': {},\n",
       "  'rank': {'United Arab Emirates': 10112,\n",
       "   'Bangladesh': 1164,\n",
       "   'Germany': 14879,\n",
       "   'Israel': 10724,\n",
       "   'Iran, Islamic Republic of': 3096,\n",
       "   'Iraq': None,\n",
       "   'Russian Federation': None,\n",
       "   'Saudi Arabia': None,\n",
       "   'Turkey': None,\n",
       "   'United States': None}}}"
      ]
     },
     "execution_count": 12,
     "metadata": {},
     "output_type": "execute_result"
    }
   ],
   "source": [
    "nd.search('shirin')\n"
   ]
  },
  {
   "cell_type": "code",
   "execution_count": 28,
   "metadata": {},
   "outputs": [],
   "source": [
    "#function to make random fake names, 50% of time persian/ half english\n",
    "def make_name():\n",
    "    if np.random.rand() < 0.5:\n",
    "        return en_names.name()\n",
    "    return fa_names.name()"
   ]
  },
  {
   "cell_type": "code",
   "execution_count": 31,
   "metadata": {},
   "outputs": [
    {
     "data": {
      "text/plain": [
       "['Sarah Griffin',\n",
       " 'اميرمهدي زمانی',\n",
       " 'Philip Gutierrez',\n",
       " 'Frank Walker',\n",
       " 'Heather Hardin',\n",
       " 'Ashley Macdonald',\n",
       " 'محدثه منصوری',\n",
       " 'آیناز اکبر پور',\n",
       " 'احسان منصوری',\n",
       " 'محمد جعفر پور']"
      ]
     },
     "execution_count": 31,
     "metadata": {},
     "output_type": "execute_result"
    }
   ],
   "source": [
    "[make_name() for _ in range(10)]"
   ]
  },
  {
   "cell_type": "code",
   "execution_count": 34,
   "metadata": {},
   "outputs": [],
   "source": [
    "df = pd.DataFrame({\n",
    "    \"Name\": [make_name() for _ in range(100)]\n",
    "})"
   ]
  },
  {
   "cell_type": "code",
   "execution_count": 35,
   "metadata": {},
   "outputs": [
    {
     "data": {
      "text/html": [
       "<div>\n",
       "<style scoped>\n",
       "    .dataframe tbody tr th:only-of-type {\n",
       "        vertical-align: middle;\n",
       "    }\n",
       "\n",
       "    .dataframe tbody tr th {\n",
       "        vertical-align: top;\n",
       "    }\n",
       "\n",
       "    .dataframe thead th {\n",
       "        text-align: right;\n",
       "    }\n",
       "</style>\n",
       "<table border=\"1\" class=\"dataframe\">\n",
       "  <thead>\n",
       "    <tr style=\"text-align: right;\">\n",
       "      <th></th>\n",
       "      <th>Name</th>\n",
       "    </tr>\n",
       "  </thead>\n",
       "  <tbody>\n",
       "    <tr>\n",
       "      <th>0</th>\n",
       "      <td>Charles Sanchez</td>\n",
       "    </tr>\n",
       "    <tr>\n",
       "      <th>1</th>\n",
       "      <td>جناب آقای محمدياسين ربانی</td>\n",
       "    </tr>\n",
       "    <tr>\n",
       "      <th>2</th>\n",
       "      <td>اسرا زمانی</td>\n",
       "    </tr>\n",
       "    <tr>\n",
       "      <th>3</th>\n",
       "      <td>ستايش حسنی</td>\n",
       "    </tr>\n",
       "    <tr>\n",
       "      <th>4</th>\n",
       "      <td>Margaret Finley</td>\n",
       "    </tr>\n",
       "  </tbody>\n",
       "</table>\n",
       "</div>"
      ],
      "text/plain": [
       "                        Name\n",
       "0            Charles Sanchez\n",
       "1  جناب آقای محمدياسين ربانی\n",
       "2                 اسرا زمانی\n",
       "3                 ستايش حسنی\n",
       "4            Margaret Finley"
      ]
     },
     "execution_count": 35,
     "metadata": {},
     "output_type": "execute_result"
    }
   ],
   "source": [
    "df.head()"
   ]
  },
  {
   "cell_type": "markdown",
   "metadata": {},
   "source": [
    "# Extract First and Last name"
   ]
  },
  {
   "cell_type": "code",
   "execution_count": 45,
   "metadata": {},
   "outputs": [
    {
     "data": {
      "text/plain": [
       "'Peggy Green'"
      ]
     },
     "execution_count": 45,
     "metadata": {},
     "output_type": "execute_result"
    }
   ],
   "source": [
    "#seperate first n last names from our generated names\n",
    "full_name = en_names.name()\n",
    "full_name"
   ]
  },
  {
   "cell_type": "code",
   "execution_count": 46,
   "metadata": {},
   "outputs": [],
   "source": [
    "first_name, *_, last_name = full_name.split() #apply this on the colum Name our df"
   ]
  },
  {
   "cell_type": "code",
   "execution_count": 50,
   "metadata": {},
   "outputs": [],
   "source": [
    "def get_firstnlast_name(name):\n",
    "    first_name, *_, last_name = full_name.split()\n",
    "    return first_name, last_name"
   ]
  },
  {
   "cell_type": "code",
   "execution_count": 72,
   "metadata": {},
   "outputs": [],
   "source": [
    "df[\"First Name\"]= df['Name'].apply(\n",
    "    lambda full_name: full_name.split()[0] #0 mish ro be onvane name gerefteh\n",
    ")\n",
    "df[\"LastName\"]  = df['Name'].apply(\n",
    "    lambda full_name: full_name.split()[-1].upper() #last elemnt as family name\n",
    ")"
   ]
  },
  {
   "cell_type": "code",
   "execution_count": 73,
   "metadata": {},
   "outputs": [
    {
     "data": {
      "text/html": [
       "<div>\n",
       "<style scoped>\n",
       "    .dataframe tbody tr th:only-of-type {\n",
       "        vertical-align: middle;\n",
       "    }\n",
       "\n",
       "    .dataframe tbody tr th {\n",
       "        vertical-align: top;\n",
       "    }\n",
       "\n",
       "    .dataframe thead th {\n",
       "        text-align: right;\n",
       "    }\n",
       "</style>\n",
       "<table border=\"1\" class=\"dataframe\">\n",
       "  <thead>\n",
       "    <tr style=\"text-align: right;\">\n",
       "      <th></th>\n",
       "      <th>Name</th>\n",
       "      <th>First Name</th>\n",
       "      <th>LastName</th>\n",
       "      <th>Gender</th>\n",
       "    </tr>\n",
       "  </thead>\n",
       "  <tbody>\n",
       "    <tr>\n",
       "      <th>0</th>\n",
       "      <td>Charles Sanchez</td>\n",
       "      <td>Charles</td>\n",
       "      <td>SANCHEZ</td>\n",
       "      <td>Female</td>\n",
       "    </tr>\n",
       "    <tr>\n",
       "      <th>1</th>\n",
       "      <td>جناب آقای محمدياسين ربانی</td>\n",
       "      <td>جناب</td>\n",
       "      <td>ربانی</td>\n",
       "      <td>Female</td>\n",
       "    </tr>\n",
       "    <tr>\n",
       "      <th>2</th>\n",
       "      <td>اسرا زمانی</td>\n",
       "      <td>اسرا</td>\n",
       "      <td>زمانی</td>\n",
       "      <td>Female</td>\n",
       "    </tr>\n",
       "    <tr>\n",
       "      <th>3</th>\n",
       "      <td>ستايش حسنی</td>\n",
       "      <td>ستايش</td>\n",
       "      <td>حسنی</td>\n",
       "      <td>Female</td>\n",
       "    </tr>\n",
       "    <tr>\n",
       "      <th>4</th>\n",
       "      <td>Margaret Finley</td>\n",
       "      <td>Margaret</td>\n",
       "      <td>FINLEY</td>\n",
       "      <td>Female</td>\n",
       "    </tr>\n",
       "    <tr>\n",
       "      <th>...</th>\n",
       "      <td>...</td>\n",
       "      <td>...</td>\n",
       "      <td>...</td>\n",
       "      <td>...</td>\n",
       "    </tr>\n",
       "    <tr>\n",
       "      <th>95</th>\n",
       "      <td>Cynthia Chang</td>\n",
       "      <td>Cynthia</td>\n",
       "      <td>CHANG</td>\n",
       "      <td>Female</td>\n",
       "    </tr>\n",
       "    <tr>\n",
       "      <th>96</th>\n",
       "      <td>یوسف معروف</td>\n",
       "      <td>یوسف</td>\n",
       "      <td>معروف</td>\n",
       "      <td>Female</td>\n",
       "    </tr>\n",
       "    <tr>\n",
       "      <th>97</th>\n",
       "      <td>رضا لاهوتی</td>\n",
       "      <td>رضا</td>\n",
       "      <td>لاهوتی</td>\n",
       "      <td>Female</td>\n",
       "    </tr>\n",
       "    <tr>\n",
       "      <th>98</th>\n",
       "      <td>Brenda Lloyd</td>\n",
       "      <td>Brenda</td>\n",
       "      <td>LLOYD</td>\n",
       "      <td>Female</td>\n",
       "    </tr>\n",
       "    <tr>\n",
       "      <th>99</th>\n",
       "      <td>سرکار خانم دکتر اسما زارع</td>\n",
       "      <td>سرکار</td>\n",
       "      <td>زارع</td>\n",
       "      <td>Female</td>\n",
       "    </tr>\n",
       "  </tbody>\n",
       "</table>\n",
       "<p>100 rows × 4 columns</p>\n",
       "</div>"
      ],
      "text/plain": [
       "                         Name First Name LastName  Gender\n",
       "0             Charles Sanchez    Charles  SANCHEZ  Female\n",
       "1   جناب آقای محمدياسين ربانی       جناب    ربانی  Female\n",
       "2                  اسرا زمانی       اسرا    زمانی  Female\n",
       "3                  ستايش حسنی      ستايش     حسنی  Female\n",
       "4             Margaret Finley   Margaret   FINLEY  Female\n",
       "..                        ...        ...      ...     ...\n",
       "95              Cynthia Chang    Cynthia    CHANG  Female\n",
       "96                 یوسف معروف       یوسف    معروف  Female\n",
       "97                 رضا لاهوتی        رضا   لاهوتی  Female\n",
       "98               Brenda Lloyd     Brenda    LLOYD  Female\n",
       "99  سرکار خانم دکتر اسما زارع      سرکار     زارع  Female\n",
       "\n",
       "[100 rows x 4 columns]"
      ]
     },
     "execution_count": 73,
     "metadata": {},
     "output_type": "execute_result"
    }
   ],
   "source": [
    "df"
   ]
  },
  {
   "cell_type": "markdown",
   "metadata": {},
   "source": [
    "# Gender Predictor"
   ]
  },
  {
   "cell_type": "code",
   "execution_count": 62,
   "metadata": {},
   "outputs": [
    {
     "data": {
      "text/plain": [
       "dict_keys(['country', 'gender', 'rank'])"
      ]
     },
     "execution_count": 62,
     "metadata": {},
     "output_type": "execute_result"
    }
   ],
   "source": [
    "nd.search('shirin')['first_name'].keys()"
   ]
  },
  {
   "cell_type": "code",
   "execution_count": 63,
   "metadata": {},
   "outputs": [
    {
     "data": {
      "text/plain": [
       "{'Female': 0.948, 'Male': 0.052}"
      ]
     },
     "execution_count": 63,
     "metadata": {},
     "output_type": "execute_result"
    }
   ],
   "source": [
    "nd.search('shirin')['first_name']['gender']"
   ]
  },
  {
   "cell_type": "code",
   "execution_count": 74,
   "metadata": {},
   "outputs": [],
   "source": [
    "#how to get the value for a given name key with maximum val (look at shirin above)\n",
    "def name_to_gender(name):\n",
    "    info = nd.search(first_name)['first_name']\n",
    "    if info is None:\n",
    "        return \n",
    "\n",
    "    return max(info['gender'], key= info['gender'].get)"
   ]
  },
  {
   "cell_type": "code",
   "execution_count": 75,
   "metadata": {},
   "outputs": [
    {
     "data": {
      "text/plain": [
       "'Female'"
      ]
     },
     "execution_count": 75,
     "metadata": {},
     "output_type": "execute_result"
    }
   ],
   "source": [
    "name_to_gender('shirin')"
   ]
  },
  {
   "cell_type": "code",
   "execution_count": 76,
   "metadata": {},
   "outputs": [],
   "source": [
    "df['Gender'] = df['First Name'].apply(name_to_gender)"
   ]
  },
  {
   "cell_type": "code",
   "execution_count": 71,
   "metadata": {},
   "outputs": [
    {
     "data": {
      "text/html": [
       "<div>\n",
       "<style scoped>\n",
       "    .dataframe tbody tr th:only-of-type {\n",
       "        vertical-align: middle;\n",
       "    }\n",
       "\n",
       "    .dataframe tbody tr th {\n",
       "        vertical-align: top;\n",
       "    }\n",
       "\n",
       "    .dataframe thead th {\n",
       "        text-align: right;\n",
       "    }\n",
       "</style>\n",
       "<table border=\"1\" class=\"dataframe\">\n",
       "  <thead>\n",
       "    <tr style=\"text-align: right;\">\n",
       "      <th></th>\n",
       "      <th>Name</th>\n",
       "      <th>First Name</th>\n",
       "      <th>LastName</th>\n",
       "      <th>Gender</th>\n",
       "    </tr>\n",
       "  </thead>\n",
       "  <tbody>\n",
       "    <tr>\n",
       "      <th>0</th>\n",
       "      <td>Charles Sanchez</td>\n",
       "      <td>Charles</td>\n",
       "      <td>Sanchez</td>\n",
       "      <td>Female</td>\n",
       "    </tr>\n",
       "    <tr>\n",
       "      <th>1</th>\n",
       "      <td>جناب آقای محمدياسين ربانی</td>\n",
       "      <td>جناب</td>\n",
       "      <td>ربانی</td>\n",
       "      <td>Female</td>\n",
       "    </tr>\n",
       "    <tr>\n",
       "      <th>2</th>\n",
       "      <td>اسرا زمانی</td>\n",
       "      <td>اسرا</td>\n",
       "      <td>زمانی</td>\n",
       "      <td>Female</td>\n",
       "    </tr>\n",
       "    <tr>\n",
       "      <th>3</th>\n",
       "      <td>ستايش حسنی</td>\n",
       "      <td>ستايش</td>\n",
       "      <td>حسنی</td>\n",
       "      <td>Female</td>\n",
       "    </tr>\n",
       "    <tr>\n",
       "      <th>4</th>\n",
       "      <td>Margaret Finley</td>\n",
       "      <td>Margaret</td>\n",
       "      <td>Finley</td>\n",
       "      <td>Female</td>\n",
       "    </tr>\n",
       "    <tr>\n",
       "      <th>...</th>\n",
       "      <td>...</td>\n",
       "      <td>...</td>\n",
       "      <td>...</td>\n",
       "      <td>...</td>\n",
       "    </tr>\n",
       "    <tr>\n",
       "      <th>95</th>\n",
       "      <td>Cynthia Chang</td>\n",
       "      <td>Cynthia</td>\n",
       "      <td>Chang</td>\n",
       "      <td>Female</td>\n",
       "    </tr>\n",
       "    <tr>\n",
       "      <th>96</th>\n",
       "      <td>یوسف معروف</td>\n",
       "      <td>یوسف</td>\n",
       "      <td>معروف</td>\n",
       "      <td>Female</td>\n",
       "    </tr>\n",
       "    <tr>\n",
       "      <th>97</th>\n",
       "      <td>رضا لاهوتی</td>\n",
       "      <td>رضا</td>\n",
       "      <td>لاهوتی</td>\n",
       "      <td>Female</td>\n",
       "    </tr>\n",
       "    <tr>\n",
       "      <th>98</th>\n",
       "      <td>Brenda Lloyd</td>\n",
       "      <td>Brenda</td>\n",
       "      <td>Lloyd</td>\n",
       "      <td>Female</td>\n",
       "    </tr>\n",
       "    <tr>\n",
       "      <th>99</th>\n",
       "      <td>سرکار خانم دکتر اسما زارع</td>\n",
       "      <td>سرکار</td>\n",
       "      <td>زارع</td>\n",
       "      <td>Female</td>\n",
       "    </tr>\n",
       "  </tbody>\n",
       "</table>\n",
       "<p>100 rows × 4 columns</p>\n",
       "</div>"
      ],
      "text/plain": [
       "                         Name First Name LastName  Gender\n",
       "0             Charles Sanchez    Charles  Sanchez  Female\n",
       "1   جناب آقای محمدياسين ربانی       جناب    ربانی  Female\n",
       "2                  اسرا زمانی       اسرا    زمانی  Female\n",
       "3                  ستايش حسنی      ستايش     حسنی  Female\n",
       "4             Margaret Finley   Margaret   Finley  Female\n",
       "..                        ...        ...      ...     ...\n",
       "95              Cynthia Chang    Cynthia    Chang  Female\n",
       "96                 یوسف معروف       یوسف    معروف  Female\n",
       "97                 رضا لاهوتی        رضا   لاهوتی  Female\n",
       "98               Brenda Lloyd     Brenda    Lloyd  Female\n",
       "99  سرکار خانم دکتر اسما زارع      سرکار     زارع  Female\n",
       "\n",
       "[100 rows x 4 columns]"
      ]
     },
     "execution_count": 71,
     "metadata": {},
     "output_type": "execute_result"
    }
   ],
   "source": [
    "df"
   ]
  },
  {
   "cell_type": "code",
   "execution_count": null,
   "metadata": {},
   "outputs": [],
   "source": []
  }
 ],
 "metadata": {
  "kernelspec": {
   "display_name": "Python 3.10.4 64-bit",
   "language": "python",
   "name": "python3"
  },
  "language_info": {
   "codemirror_mode": {
    "name": "ipython",
    "version": 3
   },
   "file_extension": ".py",
   "mimetype": "text/x-python",
   "name": "python",
   "nbconvert_exporter": "python",
   "pygments_lexer": "ipython3",
   "version": "3.10.4"
  },
  "orig_nbformat": 4,
  "vscode": {
   "interpreter": {
    "hash": "916dbcbb3f70747c44a77c7bcd40155683ae19c65e1c03b4aa3499c5328201f1"
   }
  }
 },
 "nbformat": 4,
 "nbformat_minor": 2
}
